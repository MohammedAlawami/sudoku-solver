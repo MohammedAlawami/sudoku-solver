{
 "cells": [
  {
   "cell_type": "code",
   "execution_count": 1,
   "metadata": {},
   "outputs": [],
   "source": [
    "def print_grid(grid):\n",
    "    print('-------------------------------------')\n",
    "    for i in range(0, 9):    \n",
    "        print((\"|\" + \" {}   {}   {} |\"*3).format(*[j if j != 0 else \"_\" for j in grid[i]]))\n",
    "        if ((i + 1) / 3).is_integer():\n",
    "            print('-------------------------------------')\n",
    "        else:\n",
    "            print()"
   ]
  },
  {
   "cell_type": "code",
   "execution_count": 2,
   "metadata": {},
   "outputs": [
    {
     "name": "stdout",
     "output_type": "stream",
     "text": [
      "-------------------------------------\n",
      "| 5   3   _ | _   7   _ | _   _   _ |\n",
      "\n",
      "| 6   _   _ | 1   9   5 | _   _   _ |\n",
      "\n",
      "| _   9   8 | _   _   _ | _   6   _ |\n",
      "-------------------------------------\n",
      "| 8   _   _ | _   6   _ | _   _   3 |\n",
      "\n",
      "| 4   _   _ | 8   _   3 | _   _   1 |\n",
      "\n",
      "| 7   _   _ | _   2   _ | _   _   6 |\n",
      "-------------------------------------\n",
      "| _   6   _ | _   _   _ | 2   8   _ |\n",
      "\n",
      "| _   _   _ | 4   1   9 | _   _   5 |\n",
      "\n",
      "| _   _   _ | _   8   _ | _   7   9 |\n",
      "-------------------------------------\n"
     ]
    }
   ],
   "source": [
    "sudoku = [\n",
    "    [5,3,0,0,7,0,0,0,0],\n",
    "    [6,0,0,1,9,5,0,0,0],\n",
    "    [0,9,8,0,0,0,0,6,0],\n",
    "    [8,0,0,0,6,0,0,0,3],\n",
    "    [4,0,0,8,0,3,0,0,1],\n",
    "    [7,0,0,0,2,0,0,0,6],\n",
    "    [0,6,0,0,0,0,2,8,0],\n",
    "    [0,0,0,4,1,9,0,0,5],\n",
    "    [0,0,0,0,8,0,0,7,9]\n",
    "]\n",
    "print_grid(sudoku)"
   ]
  },
  {
   "cell_type": "code",
   "execution_count": 3,
   "metadata": {},
   "outputs": [
    {
     "name": "stdout",
     "output_type": "stream",
     "text": [
      "-------------------------------------\n",
      "| _   _   4 | 9   _   3 | _   _   _ |\n",
      "\n",
      "| _   9   _ | 5   _   _ | _   _   7 |\n",
      "\n",
      "| _   3   _ | _   _   _ | _   _   _ |\n",
      "-------------------------------------\n",
      "| _   _   _ | _   _   _ | 9   3   5 |\n",
      "\n",
      "| 4   1   _ | _   _   _ | 7   _   _ |\n",
      "\n",
      "| 8   _   _ | _   _   _ | 4   _   _ |\n",
      "-------------------------------------\n",
      "| _   _   _ | _   _   4 | _   _   2 |\n",
      "\n",
      "| _   4   _ | 8   7   _ | _   5   _ |\n",
      "\n",
      "| 6   _   2 | _   1   _ | _   _   _ |\n",
      "-------------------------------------\n"
     ]
    }
   ],
   "source": [
    "sudoku = [\n",
    "    [0,0,4,9,0,3,0,0,0],\n",
    "    [0,9,0,5,0,0,0,0,7],\n",
    "    [0,3,0,0,0,0,0,0,0],\n",
    "    [0,0,0,0,0,0,9,3,5],\n",
    "    [4,1,0,0,0,0,7,0,0],\n",
    "    [8,0,0,0,0,0,4,0,0],\n",
    "    [0,0,0,0,0,4,0,0,2],\n",
    "    [0,4,0,8,7,0,0,5,0],\n",
    "    [6,0,2,0,1,0,0,0,0]\n",
    "]\n",
    "print_grid(sudoku)"
   ]
  },
  {
   "cell_type": "code",
   "execution_count": 4,
   "metadata": {},
   "outputs": [],
   "source": [
    "# will return True if the number is possible at the given location\n",
    "def check_if_posible(row,col,num, grid):\n",
    "    # check if the number is not already in that row\n",
    "    if num in grid[row]:\n",
    "        return False\n",
    "    else:\n",
    "        # check if the number exist in the col\n",
    "        for i in range(0,9):\n",
    "            if grid[i][col] == num:\n",
    "                return False\n",
    "        \n",
    "        # check if the number exist in that block\n",
    "        block_x = row // 3 * 3\n",
    "        block_y = col // 3 * 3\n",
    "    \n",
    "        for i in range(0, 3):\n",
    "            for j in range(0, 3):\n",
    "                if grid[block_x + i][block_y + j] == num:\n",
    "                    return False\n",
    "    \n",
    "    return True"
   ]
  },
  {
   "cell_type": "code",
   "execution_count": 5,
   "metadata": {},
   "outputs": [],
   "source": [
    "def solve(grid):\n",
    "    for i in range(0,9):\n",
    "        for j in range(0,9):\n",
    "            if grid[i][j] == 0:\n",
    "                for k in range(1,10):\n",
    "                    if check_if_posible(i, j, k, grid):\n",
    "                        grid[i][j] = k\n",
    "                        solve(grid)\n",
    "                        \n",
    "                        grid[i][j] = 0\n",
    "                return\n",
    "                        \n",
    "    print_grid(grid)"
   ]
  },
  {
   "cell_type": "code",
   "execution_count": 6,
   "metadata": {},
   "outputs": [
    {
     "name": "stdout",
     "output_type": "stream",
     "text": [
      "-------------------------------------\n",
      "| 7   2   4 | 9   6   3 | 5   1   8 |\n",
      "\n",
      "| 1   9   6 | 5   2   8 | 3   4   7 |\n",
      "\n",
      "| 5   3   8 | 1   4   7 | 2   6   9 |\n",
      "-------------------------------------\n",
      "| 2   6   7 | 4   8   1 | 9   3   5 |\n",
      "\n",
      "| 4   1   3 | 2   5   9 | 7   8   6 |\n",
      "\n",
      "| 8   5   9 | 7   3   6 | 4   2   1 |\n",
      "-------------------------------------\n",
      "| 3   8   5 | 6   9   4 | 1   7   2 |\n",
      "\n",
      "| 9   4   1 | 8   7   2 | 6   5   3 |\n",
      "\n",
      "| 6   7   2 | 3   1   5 | 8   9   4 |\n",
      "-------------------------------------\n",
      "CPU times: user 106 ms, sys: 1.84 ms, total: 108 ms\n",
      "Wall time: 106 ms\n"
     ]
    }
   ],
   "source": [
    "%time solve(sudoku)"
   ]
  },
  {
   "cell_type": "code",
   "execution_count": null,
   "metadata": {},
   "outputs": [],
   "source": []
  }
 ],
 "metadata": {
  "kernelspec": {
   "display_name": "Python 3",
   "language": "python",
   "name": "python3"
  },
  "language_info": {
   "codemirror_mode": {
    "name": "ipython",
    "version": 3
   },
   "file_extension": ".py",
   "mimetype": "text/x-python",
   "name": "python",
   "nbconvert_exporter": "python",
   "pygments_lexer": "ipython3",
   "version": "3.7.4"
  }
 },
 "nbformat": 4,
 "nbformat_minor": 2
}
